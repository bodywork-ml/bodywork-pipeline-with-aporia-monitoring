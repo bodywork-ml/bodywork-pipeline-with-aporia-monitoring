{
 "cells": [
  {
   "cell_type": "markdown",
   "id": "43f92882-bef2-43f7-baed-0ec5bb8f3b16",
   "metadata": {},
   "source": [
    "# Train\n",
    "\n",
    "Use this notebook to train a model that solves our regression task and uploads the train model artefact to AWS S3."
   ]
  },
  {
   "cell_type": "markdown",
   "id": "bd07ad8e-b4a3-46b3-8a91-e074b39a3b67",
   "metadata": {},
   "source": [
    "## Imports"
   ]
  },
  {
   "cell_type": "code",
   "execution_count": 1,
   "id": "c3e689e9-3fa5-4a7e-b304-632e6db43adf",
   "metadata": {},
   "outputs": [],
   "source": [
    "import os\n",
    "from urllib.request import urlopen\n",
    "\n",
    "import aporia\n",
    "import boto3 as aws\n",
    "import joblib\n",
    "import pandas as pd\n",
    "import seaborn as sns\n",
    "from numpy import floating ,ndarray\n",
    "from sklearn.model_selection import train_test_split\n",
    "from sklearn.metrics import mean_absolute_percentage_error\n",
    "from sklearn.tree import DecisionTreeRegressor"
   ]
  },
  {
   "cell_type": "markdown",
   "id": "91d01c41-d99d-417e-ac7c-7679daccc811",
   "metadata": {},
   "source": [
    "## Configuration"
   ]
  },
  {
   "cell_type": "code",
   "execution_count": 2,
   "id": "0d37999d-24cf-41d4-96d5-3b6cb4cb5f34",
   "metadata": {},
   "outputs": [],
   "source": [
    "sns.set()\n",
    "\n",
    "AWS_S3_PROJECT_BUCKET = \"bodywork-pipeline-with-aporia-monitoring\"\n",
    "DATASET_URL = (\n",
    "    \"http://bodywork-pipeline-with-aporia-monitoring\"\n",
    "    \".s3.eu-west-2.amazonaws.com/datasets/dataset_t0.csv\"\n",
    ")"
   ]
  },
  {
   "cell_type": "markdown",
   "id": "e7c0d255-f284-42b6-996e-36ca95add669",
   "metadata": {},
   "source": [
    "## Load Data from Cloud Object Storage"
   ]
  },
  {
   "cell_type": "code",
   "execution_count": 3,
   "id": "f4196191-c72e-462e-97c9-9e81bf6f9e6f",
   "metadata": {},
   "outputs": [
    {
     "data": {
      "text/html": [
       "<div>\n",
       "<style scoped>\n",
       "    .dataframe tbody tr th:only-of-type {\n",
       "        vertical-align: middle;\n",
       "    }\n",
       "\n",
       "    .dataframe tbody tr th {\n",
       "        vertical-align: top;\n",
       "    }\n",
       "\n",
       "    .dataframe thead th {\n",
       "        text-align: right;\n",
       "    }\n",
       "</style>\n",
       "<table border=\"1\" class=\"dataframe\">\n",
       "  <thead>\n",
       "    <tr style=\"text-align: right;\">\n",
       "      <th></th>\n",
       "      <th>y</th>\n",
       "      <th>F_1</th>\n",
       "      <th>F_2</th>\n",
       "    </tr>\n",
       "  </thead>\n",
       "  <tbody>\n",
       "    <tr>\n",
       "      <th>0</th>\n",
       "      <td>-0.655217</td>\n",
       "      <td>-1.223982</td>\n",
       "      <td>c0</td>\n",
       "    </tr>\n",
       "    <tr>\n",
       "      <th>1</th>\n",
       "      <td>0.399766</td>\n",
       "      <td>0.675697</td>\n",
       "      <td>c0</td>\n",
       "    </tr>\n",
       "    <tr>\n",
       "      <th>2</th>\n",
       "      <td>0.846803</td>\n",
       "      <td>0.409451</td>\n",
       "      <td>c2</td>\n",
       "    </tr>\n",
       "    <tr>\n",
       "      <th>3</th>\n",
       "      <td>0.327780</td>\n",
       "      <td>0.168691</td>\n",
       "      <td>c1</td>\n",
       "    </tr>\n",
       "    <tr>\n",
       "      <th>4</th>\n",
       "      <td>-0.332161</td>\n",
       "      <td>-0.116323</td>\n",
       "      <td>c0</td>\n",
       "    </tr>\n",
       "    <tr>\n",
       "      <th>...</th>\n",
       "      <td>...</td>\n",
       "      <td>...</td>\n",
       "      <td>...</td>\n",
       "    </tr>\n",
       "    <tr>\n",
       "      <th>995</th>\n",
       "      <td>0.630979</td>\n",
       "      <td>0.323698</td>\n",
       "      <td>c2</td>\n",
       "    </tr>\n",
       "    <tr>\n",
       "      <th>996</th>\n",
       "      <td>2.840216</td>\n",
       "      <td>1.290214</td>\n",
       "      <td>c2</td>\n",
       "    </tr>\n",
       "    <tr>\n",
       "      <th>997</th>\n",
       "      <td>-2.898253</td>\n",
       "      <td>-1.290351</td>\n",
       "      <td>c2</td>\n",
       "    </tr>\n",
       "    <tr>\n",
       "      <th>998</th>\n",
       "      <td>2.479764</td>\n",
       "      <td>1.211668</td>\n",
       "      <td>c2</td>\n",
       "    </tr>\n",
       "    <tr>\n",
       "      <th>999</th>\n",
       "      <td>-0.572966</td>\n",
       "      <td>-1.548457</td>\n",
       "      <td>c0</td>\n",
       "    </tr>\n",
       "  </tbody>\n",
       "</table>\n",
       "<p>1000 rows × 3 columns</p>\n",
       "</div>"
      ],
      "text/plain": [
       "            y       F_1 F_2\n",
       "0   -0.655217 -1.223982  c0\n",
       "1    0.399766  0.675697  c0\n",
       "2    0.846803  0.409451  c2\n",
       "3    0.327780  0.168691  c1\n",
       "4   -0.332161 -0.116323  c0\n",
       "..        ...       ...  ..\n",
       "995  0.630979  0.323698  c2\n",
       "996  2.840216  1.290214  c2\n",
       "997 -2.898253 -1.290351  c2\n",
       "998  2.479764  1.211668  c2\n",
       "999 -0.572966 -1.548457  c0\n",
       "\n",
       "[1000 rows x 3 columns]"
      ]
     },
     "execution_count": 3,
     "metadata": {},
     "output_type": "execute_result"
    }
   ],
   "source": [
    "dataset = data = pd.read_csv(urlopen(DATASET_URL))\n",
    "dataset"
   ]
  },
  {
   "cell_type": "markdown",
   "id": "47035605-7a84-494f-bbda-b4ecc0d5a00b",
   "metadata": {},
   "source": [
    "## Data Preparation\n",
    "\n",
    "Split labels from features and process categorical features."
   ]
  },
  {
   "cell_type": "code",
   "execution_count": 4,
   "id": "1319cc05-c16c-4de1-84c9-f398b082b89e",
   "metadata": {},
   "outputs": [
    {
     "data": {
      "text/plain": [
       "array([[-1.22398207,  0.        ],\n",
       "       [ 0.67569695,  0.        ],\n",
       "       [ 0.40945052,  2.        ],\n",
       "       ...,\n",
       "       [-1.29035108,  2.        ],\n",
       "       [ 1.21166849,  2.        ],\n",
       "       [-1.54845746,  0.        ]])"
      ]
     },
     "execution_count": 4,
     "metadata": {},
     "output_type": "execute_result"
    }
   ],
   "source": [
    "category_to_integer_map = {\"c0\": 0, \"c1\": 1, \"c2\": 2}\n",
    "dataset[\"F_2_encoded\"] = dataset[\"F_2\"].apply(lambda e: category_to_integer_map[e])\n",
    "\n",
    "y = dataset[\"y\"].values\n",
    "X = dataset[[\"F_1\", \"F_2_encoded\"]].values\n",
    "X"
   ]
  },
  {
   "cell_type": "markdown",
   "id": "060c84b8-69cc-4c51-8755-09e3c42ee2e3",
   "metadata": {},
   "source": [
    "## Split Data into Train and Test Subsets"
   ]
  },
  {
   "cell_type": "code",
   "execution_count": 5,
   "id": "02396d80-c022-48a8-aed9-4f3755fe6587",
   "metadata": {},
   "outputs": [],
   "source": [
    "X_train, X_test, y_train, y_test = train_test_split(\n",
    "    X,\n",
    "    y,\n",
    "    test_size=0.2,\n",
    "    stratify=dataset[\"F_2\"].values,\n",
    "    random_state=42\n",
    ")"
   ]
  },
  {
   "cell_type": "markdown",
   "id": "ff0fffc9-baed-4b55-bfaa-6640cfb17e45",
   "metadata": {},
   "source": [
    "## Setup Model Metrics\n",
    "\n",
    "We will use the Mean Absoloute Error (MAE) for this regression task."
   ]
  },
  {
   "cell_type": "code",
   "execution_count": 6,
   "id": "1caa52bc-599a-437c-83bc-cbf2dd631c72",
   "metadata": {},
   "outputs": [],
   "source": [
    "def compute_metrics(y_true: ndarray, y_pred: ndarray) -> floating:\n",
    "    mape = mean_absolute_percentage_error(y_true, y_pred)\n",
    "    print(f\"MAPE = {mape/100:.2%}\")\n",
    "    return mape"
   ]
  },
  {
   "cell_type": "markdown",
   "id": "d78d500b-dd54-4cd2-a41f-267c456ca99a",
   "metadata": {},
   "source": [
    "## Train Model\n",
    "\n",
    "We will train a decision tree, so that we can capture the non-linearities in the dataset and we will only use the default parameters, as the relationships between the labels, when conditioned on the categorical feature, is linear and should be easy to capture."
   ]
  },
  {
   "cell_type": "code",
   "execution_count": 7,
   "id": "85aa3378-4a09-4165-9907-8a4b78ad9a3b",
   "metadata": {},
   "outputs": [
    {
     "data": {
      "text/plain": [
       "DecisionTreeRegressor()"
      ]
     },
     "execution_count": 7,
     "metadata": {},
     "output_type": "execute_result"
    }
   ],
   "source": [
    "model = DecisionTreeRegressor()\n",
    "model.fit(X_train, y_train)"
   ]
  },
  {
   "cell_type": "markdown",
   "id": "ce129408-0e7f-4b2c-b920-aa24514c2138",
   "metadata": {},
   "source": [
    "### Diagnostics"
   ]
  },
  {
   "cell_type": "code",
   "execution_count": 8,
   "id": "c7598393-5843-4c96-bed9-f3aa5d5fe63f",
   "metadata": {},
   "outputs": [
    {
     "name": "stdout",
     "output_type": "stream",
     "text": [
      "MAPE = 0.84%\n"
     ]
    },
    {
     "data": {
      "image/png": "[encoded data removed]",
      "text/plain": [
       "<Figure size 360x360 with 1 Axes>"
      ]
     },
     "metadata": {},
     "output_type": "display_data"
    }
   ],
   "source": [
    "y_test_pred = model.predict(X_test)\n",
    "compute_metrics(y_test, y_test_pred)\n",
    "\n",
    "_ = sns.lmplot(\n",
    "    y=\"y_test_pred\",\n",
    "    x=\"y_test\",\n",
    "    data=pd.DataFrame({\"y_test\": y_test, \"y_test_pred\": y_test_pred}),\n",
    "    line_kws={\"color\": \"red\", \"alpha\": 0.5}\n",
    ")"
   ]
  },
  {
   "cell_type": "markdown",
   "id": "710e98c4-e024-478b-8bcc-657355885086",
   "metadata": {},
   "source": [
    "Not bad!"
   ]
  },
  {
   "cell_type": "markdown",
   "id": "bbc55db6-fd6a-4e76-af42-2a2b10cdc068",
   "metadata": {},
   "source": [
    "## Save Model to Cloud Object Storage"
   ]
  },
  {
   "cell_type": "code",
   "execution_count": 9,
   "id": "7f84e9fc-07e2-405d-9672-94b99f90a26c",
   "metadata": {},
   "outputs": [],
   "source": [
    "# persist trained model locally \n",
    "joblib.dump(model, \"model.joblib\")\n",
    "\n",
    "# upload trained model to AWS S3\n",
    "s3_client = aws.client('s3')\n",
    "s3_client.upload_file(\n",
    "    \"model.joblib\",\n",
    "    AWS_S3_PROJECT_BUCKET,\n",
    "    \"models/model.joblib\"\n",
    ")\n",
    "\n",
    "# remove local files\n",
    "os.remove(\"model.joblib\")"
   ]
  },
  {
   "cell_type": "markdown",
   "id": "77d1889b-1c0d-46bb-a05e-43d7f72fd3d8",
   "metadata": {},
   "source": [
    "## Send Datasets to Aporia\n",
    "\n",
    "To use for monitoring live prediction performance."
   ]
  },
  {
   "cell_type": "code",
   "execution_count": null,
   "id": "1a238d91-def8-4ba1-87f7-513bf7e982f6",
   "metadata": {},
   "outputs": [],
   "source": [
    "# aporia.init(token=\"MYTOKEN\", environment=\"training\")\n",
    "\n",
    "# apr_model = aporia.create_model_version(\n",
    "#     model_id=\"bodywork-prod\",\n",
    "#     model_version=\"v1\",\n",
    "#     model_type=\"regression\",\n",
    "#     features={\"f1\": \"numeric\", \"f2\": \"string\"},\n",
    "#     predictions={\"y_pred\": \"numeric\"},\n",
    "# )\n",
    "\n",
    "# apr_model.log_training_set(\n",
    "#   features=y_train,\n",
    "#   labels=X_train,\n",
    "# )\n",
    "\n",
    "# apr_model.log_test_set(\n",
    "#   features=y_test,\n",
    "#   labels=X_test,\n",
    "# )"
   ]
  }
 ],
 "metadata": {
  "kernelspec": {
   "display_name": "Python 3",
   "language": "python",
   "name": "python3"
  },
  "language_info": {
   "codemirror_mode": {
    "name": "ipython",
    "version": 3
   },
   "file_extension": ".py",
   "mimetype": "text/x-python",
   "name": "python",
   "nbconvert_exporter": "python",
   "pygments_lexer": "ipython3",
   "version": "3.8.5"
  }
 },
 "nbformat": 4,
 "nbformat_minor": 5
}

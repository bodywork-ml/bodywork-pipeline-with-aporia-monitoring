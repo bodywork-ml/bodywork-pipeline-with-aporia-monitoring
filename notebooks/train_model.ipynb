{
 "cells": [
  {
   "cell_type": "markdown",
   "id": "43f92882-bef2-43f7-baed-0ec5bb8f3b16",
   "metadata": {},
   "source": [
    "# Train\n",
    "\n",
    "Use this notebook to train a model that solves our regression task and uploads the train model artefact to AWS S3."
   ]
  },
  {
   "cell_type": "markdown",
   "id": "bd07ad8e-b4a3-46b3-8a91-e074b39a3b67",
   "metadata": {},
   "source": [
    "## Imports"
   ]
  },
  {
   "cell_type": "code",
   "execution_count": null,
   "id": "c3e689e9-3fa5-4a7e-b304-632e6db43adf",
   "metadata": {},
   "outputs": [],
   "source": [
    "import os\n",
    "from urllib.request import urlopen\n",
    "\n",
    "import aporia\n",
    "import boto3 as aws\n",
    "import joblib\n",
    "import pandas as pd\n",
    "import seaborn as sns\n",
    "from numpy import floating ,ndarray\n",
    "from sklearn.model_selection import train_test_split\n",
    "from sklearn.metrics import mean_absolute_percentage_error\n",
    "from sklearn.tree import DecisionTreeRegressor"
   ]
  },
  {
   "cell_type": "markdown",
   "id": "91d01c41-d99d-417e-ac7c-7679daccc811",
   "metadata": {},
   "source": [
    "## Configuration"
   ]
  },
  {
   "cell_type": "code",
   "execution_count": null,
   "id": "0d37999d-24cf-41d4-96d5-3b6cb4cb5f34",
   "metadata": {},
   "outputs": [],
   "source": [
    "sns.set()\n",
    "\n",
    "AWS_S3_PROJECT_BUCKET = \"bodywork-pipeline-with-aporia-monitoring\"\n",
    "DATASET_URL = (\n",
    "    \"http://bodywork-pipeline-with-aporia-monitoring\"\n",
    "    \".s3.eu-west-2.amazonaws.com/datasets/dataset_t0.csv\"\n",
    ")"
   ]
  },
  {
   "cell_type": "markdown",
   "id": "e7c0d255-f284-42b6-996e-36ca95add669",
   "metadata": {},
   "source": [
    "## Load Data from Cloud Object Storage"
   ]
  },
  {
   "cell_type": "code",
   "execution_count": null,
   "id": "f4196191-c72e-462e-97c9-9e81bf6f9e6f",
   "metadata": {},
   "outputs": [],
   "source": [
    "dataset = data = pd.read_csv(urlopen(DATASET_URL))\n",
    "dataset"
   ]
  },
  {
   "cell_type": "markdown",
   "id": "47035605-7a84-494f-bbda-b4ecc0d5a00b",
   "metadata": {},
   "source": [
    "## Data Preparation\n",
    "\n",
    "Split labels from features and process categorical features."
   ]
  },
  {
   "cell_type": "code",
   "execution_count": null,
   "id": "1319cc05-c16c-4de1-84c9-f398b082b89e",
   "metadata": {},
   "outputs": [],
   "source": [
    "category_to_integer_map = {\"c0\": 0, \"c1\": 1, \"c2\": 2}\n",
    "\n",
    "def preprocess(df):\n",
    "    df = df.copy()\n",
    "    df[\"F_2\"] = df[\"F_2\"].apply(lambda e: category_to_integer_map[e])\n",
    "\n",
    "    return df\n",
    "\n",
    "X = dataset[[\"F_1\", \"F_2\"]]\n",
    "y = dataset[\"y\"]\n",
    "X"
   ]
  },
  {
   "cell_type": "markdown",
   "id": "060c84b8-69cc-4c51-8755-09e3c42ee2e3",
   "metadata": {},
   "source": [
    "## Split Data into Train and Test Subsets"
   ]
  },
  {
   "cell_type": "code",
   "execution_count": null,
   "id": "02396d80-c022-48a8-aed9-4f3755fe6587",
   "metadata": {},
   "outputs": [],
   "source": [
    "X_train, X_test, y_train, y_test = train_test_split(\n",
    "    X,\n",
    "    y,\n",
    "    test_size=0.2,\n",
    "    stratify=dataset[\"F_2\"].values,\n",
    "    random_state=42\n",
    ")"
   ]
  },
  {
   "cell_type": "markdown",
   "id": "ff0fffc9-baed-4b55-bfaa-6640cfb17e45",
   "metadata": {},
   "source": [
    "## Setup Model Metrics\n",
    "\n",
    "We will use the Mean Absoloute Error (MAE) for this regression task."
   ]
  },
  {
   "cell_type": "code",
   "execution_count": null,
   "id": "1caa52bc-599a-437c-83bc-cbf2dd631c72",
   "metadata": {},
   "outputs": [],
   "source": [
    "def compute_metrics(y_true: ndarray, y_pred: ndarray) -> floating:\n",
    "    mape = mean_absolute_percentage_error(y_true, y_pred)\n",
    "    print(f\"MAPE = {mape/100:.2%}\")\n",
    "    return mape"
   ]
  },
  {
   "cell_type": "markdown",
   "id": "d78d500b-dd54-4cd2-a41f-267c456ca99a",
   "metadata": {},
   "source": [
    "## Train Model\n",
    "\n",
    "We will train a decision tree, so that we can capture the non-linearities in the dataset and we will only use the default parameters, as the relationships between the labels, when conditioned on the categorical feature, is linear and should be easy to capture."
   ]
  },
  {
   "cell_type": "code",
   "execution_count": null,
   "id": "85aa3378-4a09-4165-9907-8a4b78ad9a3b",
   "metadata": {},
   "outputs": [],
   "source": [
    "model = DecisionTreeRegressor()\n",
    "model.fit(preprocess(X_train), y_train)"
   ]
  },
  {
   "cell_type": "markdown",
   "id": "ce129408-0e7f-4b2c-b920-aa24514c2138",
   "metadata": {},
   "source": [
    "### Diagnostics"
   ]
  },
  {
   "cell_type": "code",
   "execution_count": null,
   "id": "c7598393-5843-4c96-bed9-f3aa5d5fe63f",
   "metadata": {},
   "outputs": [],
   "source": [
    "y_test_pred = model.predict(preprocess(X_test))\n",
    "compute_metrics(y_test, y_test_pred)\n",
    "\n",
    "_ = sns.lmplot(\n",
    "    y=\"y_test_pred\",\n",
    "    x=\"y_test\",\n",
    "    data=pd.DataFrame({\"y_test\": y_test, \"y_test_pred\": y_test_pred}),\n",
    "    line_kws={\"color\": \"red\", \"alpha\": 0.5}\n",
    ")"
   ]
  },
  {
   "cell_type": "markdown",
   "id": "710e98c4-e024-478b-8bcc-657355885086",
   "metadata": {},
   "source": [
    "Not bad!"
   ]
  },
  {
   "cell_type": "markdown",
   "id": "bbc55db6-fd6a-4e76-af42-2a2b10cdc068",
   "metadata": {},
   "source": [
    "## Save Model to Cloud Object Storage"
   ]
  },
  {
   "cell_type": "code",
   "execution_count": null,
   "id": "7f84e9fc-07e2-405d-9672-94b99f90a26c",
   "metadata": {},
   "outputs": [],
   "source": [
    "# persist trained model locally \n",
    "joblib.dump(model, \"model.joblib\")\n",
    "\n",
    "# upload trained model to AWS S3\n",
    "s3_client = aws.client('s3')\n",
    "s3_client.upload_file(\n",
    "    \"model.joblib\",\n",
    "    AWS_S3_PROJECT_BUCKET,\n",
    "    \"models/model.joblib\"\n",
    ")\n",
    "\n",
    "# remove local files\n",
    "os.remove(\"model.joblib\")"
   ]
  },
  {
   "cell_type": "markdown",
   "id": "77d1889b-1c0d-46bb-a05e-43d7f72fd3d8",
   "metadata": {},
   "source": [
    "## Send Datasets to Aporia\n",
    "\n",
    "To use for monitoring live prediction performance."
   ]
  },
  {
   "cell_type": "code",
   "execution_count": null,
   "id": "1a238d91-def8-4ba1-87f7-513bf7e982f6",
   "metadata": {},
   "outputs": [],
   "source": [
    "aporia.init(token=\"<YOUR TOKEN HERE>\", environment=\"training\", verbose=True)\n",
    "\n",
    "apr_model = aporia.create_model_version(\n",
    "    model_id=\"<MODEL ID>\",\n",
    "    model_version=\"<MODEL VERSION>\",\n",
    "    model_type=\"regression\",\n",
    "    raw_inputs={\n",
    "      \"F_1\": \"numeric\",\n",
    "      \"F_2\": \"string\",\n",
    "    },\n",
    "    features={\n",
    "      \"F_1\": \"numeric\",\n",
    "      \"F_2\": \"string\",\n",
    "    },\n",
    "    predictions={\n",
    "      \"y\": \"numeric\"\n",
    "    },\n",
    ")\n",
    "\n",
    "apr_model.log_training_set(\n",
    "  raw_inputs=X_train,\n",
    "  features=preprocess(X_train),\n",
    "  labels=y_train.to_frame(),\n",
    ")\n",
    "\n",
    "apr_model.log_test_set(\n",
    "  raw_inputs=X_test,\n",
    "  features=preprocess(X_test),\n",
    "  labels=y_test.to_frame(),\n",
    "  predictions=pd.DataFrame(columns=[\"y\"], data=y_test_pred),\n",
    ")"
   ]
  }
 ],
 "metadata": {
  "kernelspec": {
   "name": "python385jvsc74a57bd02db524e06e9f5f4ffedc911c917cb75e12dbc923643829bf417064a77eb14d37",
   "display_name": "Python 3.8.5 64-bit"
  },
  "language_info": {
   "codemirror_mode": {
    "name": "ipython",
    "version": 3
   },
   "file_extension": ".py",
   "mimetype": "text/x-python",
   "name": "python",
   "nbconvert_exporter": "python",
   "pygments_lexer": "ipython3",
   "version": "3.8.5"
  }
 },
 "nbformat": 4,
 "nbformat_minor": 5
}